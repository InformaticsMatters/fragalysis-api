{
 "cells": [
  {
   "cell_type": "code",
   "execution_count": 71,
   "metadata": {},
   "outputs": [],
   "source": [
    "from rdkit import Chem\n",
    "import json\n",
    "import pandas as pd\n",
    "\n",
    "pdbcode = \"5qj7\"\n",
    "pdbfile = open(\"../data/\"+str(pdbcode)+\".pdb\").readlines()\n",
    "\n",
    "hetatms  = []\n",
    "conects = []\n",
    "\n",
    "non_ligs = json.load(open(\"non_ligs\", \"r\"))\n",
    "\n",
    "for line in pdbfile:\n",
    "    if line.startswith(\"HETATM\"):\n",
    "        hetatms.append(line)\n",
    "    if line.startswith(\"CONECT\"):\n",
    "        conects.append(line)\n",
    "           \n",
    "final_hets = []\n",
    "het_cons = []\n",
    "for line in hetatms:\n",
    "    if str(line.split()[3]) not in non_ligs:\n",
    "        final_hets.append(line)"
   ]
  },
  {
   "cell_type": "code",
   "execution_count": 72,
   "metadata": {},
   "outputs": [],
   "source": [
    "ligands = []\n",
    "\n",
    "\"\"\"\n",
    "Separate out the individual ligands \n",
    "\"\"\"\n",
    "def find_ligand_names():\n",
    "    for i in range(len(final_hets)):\n",
    "        line_split = final_hets[i].split()\n",
    "        LIG_NAME = '_'.join(map(str, line_split[3:6]))\n",
    "        if LIG_NAME not in ligands:\n",
    "            ligands.append(LIG_NAME)\n",
    "        \n",
    "  \n",
    "def create_pdb_for_ligand(ligand):    \n",
    "    ligands_connections = open(\"../resulting_data/\"+str(pdbcode)+\"_\"+str(ligand)+\".pdb\", \"w+\")\n",
    "    individual_ligand = []\n",
    "    individual_ligand_conect = []\n",
    "    code  = ligand.split('_')\n",
    "    for atom in final_hets:\n",
    "        atom_info = atom.split()\n",
    "        atom_number = atom_info[1]\n",
    "        if code[0] == atom_info[3] and code[1] == atom_info[4] and code[2] == atom_info[5]:\n",
    "            individual_ligand.append(atom)\n",
    "            for conection in conects:\n",
    "                if atom_number in conection and conection not in individual_ligand_conect:\n",
    "                    individual_ligand_conect.append(conection)\n",
    "\n",
    "    ligand_het_con = individual_ligand+individual_ligand_conect\n",
    "\n",
    "    for line in ligand_het_con:\n",
    "        ligands_connections.write(str(line))\n",
    "\n",
    "    ligands_connections.close()\n",
    "\n",
    "    return (Chem.rdmolfiles.MolFromPDBFile(\"../resulting_data/\"+str(pdbcode)+\"_\"+str(ligand)+\".pdb\"))\n",
    "    \n",
    "def create_mol_file(ligand, mol_obj):  \n",
    "    return Chem.rdmolfiles.MolToMolFile(mol_obj, \"../resulting_data/\"+str(pdbcode)+\"_\"+str(ligand)+\"_mol.mol\")\n",
    "\n",
    "    \n",
    "find_ligand_names()\n",
    "mol_1 = create_pdb_for_ligand(ligands[0])\n",
    "mol_2 = create_pdb_for_ligand(ligands[1])\n",
    "mol_3 = create_pdb_for_ligand(ligands[2])\n",
    "mol_4 = create_pdb_for_ligand(ligands[3])\n",
    "hello = create_mol_file(ligands[0], mol_1)\n",
    "create_mol_file(ligands[1], mol_2)\n",
    "create_mol_file(ligands[2], mol_3)\n",
    "create_mol_file(ligands[3], mol_4)"
   ]
  },
  {
   "cell_type": "code",
   "execution_count": 73,
   "metadata": {},
   "outputs": [],
   "source": [
    "writer = Chem.rdmolfiles.SDWriter('../resulting_data/out.sdf')\n",
    "writer.write(mol_1)\n",
    "writer.write(mol_2)\n",
    "writer.write(mol_3)\n",
    "writer.write(mol_4)"
   ]
  }
 ],
 "metadata": {
  "kernelspec": {
   "display_name": "Python 3",
   "language": "python",
   "name": "python3"
  },
  "language_info": {
   "codemirror_mode": {
    "name": "ipython",
    "version": 3
   },
   "file_extension": ".py",
   "mimetype": "text/x-python",
   "name": "python",
   "nbconvert_exporter": "python",
   "pygments_lexer": "ipython3",
   "version": "3.7.4"
  }
 },
 "nbformat": 4,
 "nbformat_minor": 2
}
