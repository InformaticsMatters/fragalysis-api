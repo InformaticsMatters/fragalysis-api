{
 "cells": [
  {
   "cell_type": "code",
   "execution_count": 1,
   "metadata": {},
   "outputs": [],
   "source": [
    "import glob\n",
    "import Bio.PDB\n",
    "from pymol import cmd"
   ]
  },
  {
   "cell_type": "code",
   "execution_count": 3,
   "metadata": {},
   "outputs": [],
   "source": [
    "parser = Bio.PDB.PDBParser()"
   ]
  },
  {
   "cell_type": "code",
   "execution_count": 4,
   "metadata": {},
   "outputs": [
    {
     "name": "stdout",
     "output_type": "stream",
     "text": [
      "[]\n"
     ]
    }
   ],
   "source": [
    "#check test files are in the right directory\n",
    "lst = glob.glob(\"*.pdb\")\n",
    "lst.sort()\n",
    "\n",
    "print (lst)"
   ]
  },
  {
   "cell_type": "code",
   "execution_count": null,
   "metadata": {},
   "outputs": [],
   "source": [
    "#initialises pdb file class. Old setup but should give right object for save testing. \n",
    "class PDBFile:\n",
    "    def __init__(self, name, length, resolution):\n",
    "        self.name = name\n",
    "        self.length = length\n",
    "        self.resolution = resolution\n"
   ]
  },
  {
   "cell_type": "code",
   "execution_count": 5,
   "metadata": {},
   "outputs": [],
   "source": [
    "#aligns objects in cmd. \n",
    "for i in glob.glob(\".pdb\"):\n",
    "    cmd.load(i)\n",
    "    cmd.align(lst[i],lst[0])"
   ]
  },
  {
   "cell_type": "code",
   "execution_count": null,
   "metadata": {},
   "outputs": [],
   "source": [
    "#saves aligned structues as pdb. \n",
    "cmd.multisave(\"5qj_all_aligned.pdb\")"
   ]
  }
 ],
 "metadata": {
  "kernelspec": {
   "display_name": "fragalysis_env",
   "language": "python",
   "name": "fragalysis_env"
  },
  "language_info": {
   "codemirror_mode": {
    "name": "ipython",
    "version": 3
   },
   "file_extension": ".py",
   "mimetype": "text/x-python",
   "name": "python",
   "nbconvert_exporter": "python",
   "pygments_lexer": "ipython3",
   "version": "3.7.4"
  }
 },
 "nbformat": 4,
 "nbformat_minor": 2
}
